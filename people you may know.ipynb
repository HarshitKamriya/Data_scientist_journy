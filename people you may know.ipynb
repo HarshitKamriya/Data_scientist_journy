{
 "cells": [
  {
   "cell_type": "code",
   "execution_count": 6,
   "id": "abceb5c4-d285-4ef2-a943-82d88408b288",
   "metadata": {},
   "outputs": [
    {
     "name": "stdout",
     "output_type": "stream",
     "text": [
      "People You May Know for User 2: [3]\n"
     ]
    }
   ],
   "source": [
    "import json\n",
    "\n",
    "def load_data(filename):\n",
    "    with open(filename, \"r\") as file:\n",
    "        return json.load(file)\n",
    "\n",
    "def find_people_you_may_know(user_id, data):\n",
    "    user_friends = {}\n",
    "    for user in data[\"users\"]:\n",
    "        user_friends[user[\"id\"]] = set(user[\"friends\"])\n",
    "    \n",
    "    if user_id not in user_friends:\n",
    "        return []\n",
    "    \n",
    "    direct_friends = user_friends[user_id]\n",
    "    suggestions = {}\n",
    "    \n",
    "    for friend in direct_friends:\n",
    "        # For all friends of friend\n",
    "        for mutual in user_friends[friend]:\n",
    "            # If mutual id is not the same user and not already a direct friend of user\n",
    "            if mutual != user_id and mutual not in direct_friends:\n",
    "                # Count mutual friends\n",
    "                suggestions[mutual] = suggestions.get(mutual, 0) + 1\n",
    "    \n",
    "    sorted_suggestions = sorted(suggestions.items(), key=lambda x: x[1], reverse=True)\n",
    "    return [u_id for u_id, mutual_count in sorted_suggestions]\n",
    "\n",
    "# Load data\n",
    "data = load_data(\"cleaned_codebook_data.json\")\n",
    "user_id = 2  # Example: Finding suggestions for Amit\n",
    "recc = find_people_you_may_know(user_id, data)\n",
    "print(f\"People You May Know for User {user_id}: {recc}\")"
   ]
  },
  {
   "cell_type": "code",
   "execution_count": 7,
   "id": "8b9915af-9126-446a-afb1-e829a51604fa",
   "metadata": {},
   "outputs": [
    {
     "name": "stdout",
     "output_type": "stream",
     "text": [
      "{\"users\": [{\"id\": 1, \"name\": \"Amit\", \"friends\": [2, 3], \"liked_pages\": [101]}, {\"id\": 2, \"name\": \"Priya\", \"friends\": [1, 4], \"liked_pages\": [102]}, {\"id\": 4, \"name\": \"Sara\", \"friends\": [2], \"liked_pages\": [104]}], \"pages\": [{\"id\": 101, \"name\": \"Python Developers\"}, {\"id\": 102, \"name\": \"Data Science Enthusiasts\"}, {\"id\": 103, \"name\": \"AI & ML Community\"}, {\"id\": 104, \"name\": \"Web Development\"}]}\n"
     ]
    }
   ],
   "source": [
    "print(json.dumps(data))"
   ]
  },
  {
   "cell_type": "code",
   "execution_count": null,
   "id": "1d3e65a5-bace-4227-9cc6-39edaf0400ba",
   "metadata": {},
   "outputs": [],
   "source": []
  }
 ],
 "metadata": {
  "kernelspec": {
   "display_name": "Python 3 (ipykernel)",
   "language": "python",
   "name": "python3"
  },
  "language_info": {
   "codemirror_mode": {
    "name": "ipython",
    "version": 3
   },
   "file_extension": ".py",
   "mimetype": "text/x-python",
   "name": "python",
   "nbconvert_exporter": "python",
   "pygments_lexer": "ipython3",
   "version": "3.11.11"
  }
 },
 "nbformat": 4,
 "nbformat_minor": 5
}
