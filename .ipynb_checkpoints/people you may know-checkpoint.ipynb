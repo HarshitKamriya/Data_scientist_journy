{
 "cells": [
  {
   "cell_type": "code",
   "execution_count": null,
   "id": "abceb5c4-d285-4ef2-a943-82d88408b288",
   "metadata": {},
   "outputs": [],
   "source": [
    "import json\n",
    "def load_data(filename):\n",
    "    with open(filename,\"r\") as file:\n",
    "        return json.load(file)\n",
    "\n",
    "def find_people_you_may_know(user_id,data):\n",
    "    user_friends = {}\n",
    "    for user in data[\"users\"]:\n",
    "        user_friends[user[\"id\"]] = set(user[\"friends\"])\n",
    "    if user_id not in user_friends:\n",
    "        return []\n",
    "\n",
    "    direct_friends = user-friends[user_id]\n",
    "    suggestions = {}\n",
    "\n",
    "    for friend in direct_friends:\n",
    "        for mutal in user_friends[friend]:\n",
    "            if mutual != user_id and mutual not in direct_friends:\n",
    "                suggestions[mutual] = suggestions.get(mutual,0)+1\n",
    "\n",
    "    sorted_suggestions = sorted(suggestions.items(),key=lambda x:x[1], reverse = True)\n",
    "    return [user_id for user_id, _ in sorted_suggestions]\n",
    "\n",
    "data = load_data(\"clean"
   ]
  }
 ],
 "metadata": {
  "kernelspec": {
   "display_name": "Python 3 (ipykernel)",
   "language": "python",
   "name": "python3"
  },
  "language_info": {
   "codemirror_mode": {
    "name": "ipython",
    "version": 3
   },
   "file_extension": ".py",
   "mimetype": "text/x-python",
   "name": "python",
   "nbconvert_exporter": "python",
   "pygments_lexer": "ipython3",
   "version": "3.11.11"
  }
 },
 "nbformat": 4,
 "nbformat_minor": 5
}
