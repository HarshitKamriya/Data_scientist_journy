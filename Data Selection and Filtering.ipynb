{
 "cells": [
  {
   "cell_type": "code",
   "execution_count": 58,
   "id": "baa5dbee-a1ca-45d6-82e1-8791bf81e09d",
   "metadata": {},
   "outputs": [],
   "source": [
    "import pandas as pd"
   ]
  },
  {
   "cell_type": "code",
   "execution_count": 60,
   "id": "5f341520-7c25-4ee8-9511-b9e66a28459f",
   "metadata": {},
   "outputs": [],
   "source": [
    "df = pd.read_csv(\"data1.csv\")"
   ]
  },
  {
   "cell_type": "code",
   "execution_count": 62,
   "id": "6b07886e-e4a4-4b20-8ca2-39c0b63a3470",
   "metadata": {},
   "outputs": [
    {
     "data": {
      "text/html": [
       "<div>\n",
       "<style scoped>\n",
       "    .dataframe tbody tr th:only-of-type {\n",
       "        vertical-align: middle;\n",
       "    }\n",
       "\n",
       "    .dataframe tbody tr th {\n",
       "        vertical-align: top;\n",
       "    }\n",
       "\n",
       "    .dataframe thead th {\n",
       "        text-align: right;\n",
       "    }\n",
       "</style>\n",
       "<table border=\"1\" class=\"dataframe\">\n",
       "  <thead>\n",
       "    <tr style=\"text-align: right;\">\n",
       "      <th></th>\n",
       "      <th>Actor</th>\n",
       "      <th>film</th>\n",
       "      <th>year</th>\n",
       "      <th>Genre</th>\n",
       "      <th>BoxOffice(INR Cror</th>\n",
       "      <th>IMD</th>\n",
       "    </tr>\n",
       "  </thead>\n",
       "  <tbody>\n",
       "    <tr>\n",
       "      <th>0</th>\n",
       "      <td>Shah Rukh Khan</td>\n",
       "      <td>Pathan</td>\n",
       "      <td>2016</td>\n",
       "      <td>Action</td>\n",
       "      <td>1050</td>\n",
       "      <td>7.2</td>\n",
       "    </tr>\n",
       "    <tr>\n",
       "      <th>1</th>\n",
       "      <td>Salman Khan</td>\n",
       "      <td>Tiger Zinda Hai</td>\n",
       "      <td>2022</td>\n",
       "      <td>Action</td>\n",
       "      <td>565</td>\n",
       "      <td>6.0</td>\n",
       "    </tr>\n",
       "    <tr>\n",
       "      <th>2</th>\n",
       "      <td>Ranbir Kapoor</td>\n",
       "      <td>Dangal</td>\n",
       "      <td>2018</td>\n",
       "      <td>Biography</td>\n",
       "      <td>2024</td>\n",
       "      <td>8.4</td>\n",
       "    </tr>\n",
       "    <tr>\n",
       "      <th>3</th>\n",
       "      <td>Ranveer Singh</td>\n",
       "      <td>Brahmastra</td>\n",
       "      <td>2018</td>\n",
       "      <td>Fantasy</td>\n",
       "      <td>431</td>\n",
       "      <td>5.6</td>\n",
       "    </tr>\n",
       "    <tr>\n",
       "      <th>4</th>\n",
       "      <td>Ayushman Khurrana</td>\n",
       "      <td>Padmaavat</td>\n",
       "      <td>2018</td>\n",
       "      <td>Historical</td>\n",
       "      <td>585</td>\n",
       "      <td>7.0</td>\n",
       "    </tr>\n",
       "    <tr>\n",
       "      <th>5</th>\n",
       "      <td>Ranjkuman Rao</td>\n",
       "      <td>Andhadhun</td>\n",
       "      <td>2019</td>\n",
       "      <td>Thriller</td>\n",
       "      <td>111</td>\n",
       "      <td>8.3</td>\n",
       "    </tr>\n",
       "    <tr>\n",
       "      <th>6</th>\n",
       "      <td>Hrithik Roshan</td>\n",
       "      <td>Stree</td>\n",
       "      <td>2019</td>\n",
       "      <td>Horror Comedy</td>\n",
       "      <td>475</td>\n",
       "      <td>7.5</td>\n",
       "    </tr>\n",
       "    <tr>\n",
       "      <th>7</th>\n",
       "      <td>Akshay Kumar</td>\n",
       "      <td>War</td>\n",
       "      <td>2022</td>\n",
       "      <td>Action</td>\n",
       "      <td>318</td>\n",
       "      <td>6.5</td>\n",
       "    </tr>\n",
       "    <tr>\n",
       "      <th>8</th>\n",
       "      <td>Kartik Aaryan</td>\n",
       "      <td>Good Newwz</td>\n",
       "      <td>2017</td>\n",
       "      <td>Comedy</td>\n",
       "      <td>266</td>\n",
       "      <td>7.0</td>\n",
       "    </tr>\n",
       "    <tr>\n",
       "      <th>9</th>\n",
       "      <td>Varun Dhawan</td>\n",
       "      <td>Bhool Bhulaiyaa</td>\n",
       "      <td>2018</td>\n",
       "      <td>Horror Comedy</td>\n",
       "      <td>201</td>\n",
       "      <td>5.9</td>\n",
       "    </tr>\n",
       "    <tr>\n",
       "      <th>10</th>\n",
       "      <td>Vicky Kaushal</td>\n",
       "      <td>URI</td>\n",
       "      <td>2019</td>\n",
       "      <td>Action</td>\n",
       "      <td>342</td>\n",
       "      <td>8.2</td>\n",
       "    </tr>\n",
       "  </tbody>\n",
       "</table>\n",
       "</div>"
      ],
      "text/plain": [
       "                Actor             film  year          Genre  \\\n",
       "0      Shah Rukh Khan           Pathan  2016         Action   \n",
       "1         Salman Khan  Tiger Zinda Hai  2022         Action   \n",
       "2       Ranbir Kapoor           Dangal  2018      Biography   \n",
       "3       Ranveer Singh       Brahmastra  2018        Fantasy   \n",
       "4   Ayushman Khurrana        Padmaavat  2018     Historical   \n",
       "5       Ranjkuman Rao        Andhadhun  2019       Thriller   \n",
       "6      Hrithik Roshan           Stree   2019  Horror Comedy   \n",
       "7        Akshay Kumar             War   2022         Action   \n",
       "8       Kartik Aaryan       Good Newwz  2017         Comedy   \n",
       "9        Varun Dhawan  Bhool Bhulaiyaa  2018  Horror Comedy   \n",
       "10      Vicky Kaushal              URI  2019         Action   \n",
       "\n",
       "    BoxOffice(INR Cror  IMD  \n",
       "0                 1050  7.2  \n",
       "1                  565  6.0  \n",
       "2                 2024  8.4  \n",
       "3                  431  5.6  \n",
       "4                  585  7.0  \n",
       "5                  111  8.3  \n",
       "6                  475  7.5  \n",
       "7                  318  6.5  \n",
       "8                  266  7.0  \n",
       "9                  201  5.9  \n",
       "10                 342  8.2  "
      ]
     },
     "execution_count": 62,
     "metadata": {},
     "output_type": "execute_result"
    }
   ],
   "source": [
    "df"
   ]
  },
  {
   "cell_type": "code",
   "execution_count": 64,
   "id": "fac4e444-bdf2-468f-847a-98bceac3fd89",
   "metadata": {},
   "outputs": [
    {
     "data": {
      "text/plain": [
       "'Ranbir Kapoor'"
      ]
     },
     "execution_count": 64,
     "metadata": {},
     "output_type": "execute_result"
    }
   ],
   "source": [
    "df['Actor'][2]"
   ]
  },
  {
   "cell_type": "code",
   "execution_count": 66,
   "id": "f998177c-192d-4f80-ba0f-0b72345b236b",
   "metadata": {},
   "outputs": [
    {
     "data": {
      "text/plain": [
       "pandas.core.series.Series"
      ]
     },
     "execution_count": 66,
     "metadata": {},
     "output_type": "execute_result"
    }
   ],
   "source": [
    "type(df['Actor'])"
   ]
  },
  {
   "cell_type": "code",
   "execution_count": 68,
   "id": "98dcb16e-def9-4670-84a6-ecaa47bff894",
   "metadata": {},
   "outputs": [
    {
     "data": {
      "text/html": [
       "<div>\n",
       "<style scoped>\n",
       "    .dataframe tbody tr th:only-of-type {\n",
       "        vertical-align: middle;\n",
       "    }\n",
       "\n",
       "    .dataframe tbody tr th {\n",
       "        vertical-align: top;\n",
       "    }\n",
       "\n",
       "    .dataframe thead th {\n",
       "        text-align: right;\n",
       "    }\n",
       "</style>\n",
       "<table border=\"1\" class=\"dataframe\">\n",
       "  <thead>\n",
       "    <tr style=\"text-align: right;\">\n",
       "      <th></th>\n",
       "      <th>Actor</th>\n",
       "      <th>film</th>\n",
       "    </tr>\n",
       "  </thead>\n",
       "  <tbody>\n",
       "    <tr>\n",
       "      <th>0</th>\n",
       "      <td>Shah Rukh Khan</td>\n",
       "      <td>Pathan</td>\n",
       "    </tr>\n",
       "    <tr>\n",
       "      <th>1</th>\n",
       "      <td>Salman Khan</td>\n",
       "      <td>Tiger Zinda Hai</td>\n",
       "    </tr>\n",
       "    <tr>\n",
       "      <th>2</th>\n",
       "      <td>Ranbir Kapoor</td>\n",
       "      <td>Dangal</td>\n",
       "    </tr>\n",
       "    <tr>\n",
       "      <th>3</th>\n",
       "      <td>Ranveer Singh</td>\n",
       "      <td>Brahmastra</td>\n",
       "    </tr>\n",
       "    <tr>\n",
       "      <th>4</th>\n",
       "      <td>Ayushman Khurrana</td>\n",
       "      <td>Padmaavat</td>\n",
       "    </tr>\n",
       "    <tr>\n",
       "      <th>5</th>\n",
       "      <td>Ranjkuman Rao</td>\n",
       "      <td>Andhadhun</td>\n",
       "    </tr>\n",
       "    <tr>\n",
       "      <th>6</th>\n",
       "      <td>Hrithik Roshan</td>\n",
       "      <td>Stree</td>\n",
       "    </tr>\n",
       "    <tr>\n",
       "      <th>7</th>\n",
       "      <td>Akshay Kumar</td>\n",
       "      <td>War</td>\n",
       "    </tr>\n",
       "    <tr>\n",
       "      <th>8</th>\n",
       "      <td>Kartik Aaryan</td>\n",
       "      <td>Good Newwz</td>\n",
       "    </tr>\n",
       "    <tr>\n",
       "      <th>9</th>\n",
       "      <td>Varun Dhawan</td>\n",
       "      <td>Bhool Bhulaiyaa</td>\n",
       "    </tr>\n",
       "    <tr>\n",
       "      <th>10</th>\n",
       "      <td>Vicky Kaushal</td>\n",
       "      <td>URI</td>\n",
       "    </tr>\n",
       "  </tbody>\n",
       "</table>\n",
       "</div>"
      ],
      "text/plain": [
       "                Actor             film\n",
       "0      Shah Rukh Khan           Pathan\n",
       "1         Salman Khan  Tiger Zinda Hai\n",
       "2       Ranbir Kapoor           Dangal\n",
       "3       Ranveer Singh       Brahmastra\n",
       "4   Ayushman Khurrana        Padmaavat\n",
       "5       Ranjkuman Rao        Andhadhun\n",
       "6      Hrithik Roshan           Stree \n",
       "7        Akshay Kumar             War \n",
       "8       Kartik Aaryan       Good Newwz\n",
       "9        Varun Dhawan  Bhool Bhulaiyaa\n",
       "10      Vicky Kaushal              URI"
      ]
     },
     "execution_count": 68,
     "metadata": {},
     "output_type": "execute_result"
    }
   ],
   "source": [
    "df[['Actor','film']]"
   ]
  },
  {
   "cell_type": "code",
   "execution_count": 70,
   "id": "2956da18-2500-4c67-85a1-841012ab62e1",
   "metadata": {},
   "outputs": [
    {
     "data": {
      "text/html": [
       "<div>\n",
       "<style scoped>\n",
       "    .dataframe tbody tr th:only-of-type {\n",
       "        vertical-align: middle;\n",
       "    }\n",
       "\n",
       "    .dataframe tbody tr th {\n",
       "        vertical-align: top;\n",
       "    }\n",
       "\n",
       "    .dataframe thead th {\n",
       "        text-align: right;\n",
       "    }\n",
       "</style>\n",
       "<table border=\"1\" class=\"dataframe\">\n",
       "  <thead>\n",
       "    <tr style=\"text-align: right;\">\n",
       "      <th></th>\n",
       "      <th>Actor</th>\n",
       "      <th>film</th>\n",
       "      <th>year</th>\n",
       "      <th>Genre</th>\n",
       "      <th>BoxOffice(INR Cror</th>\n",
       "      <th>IMD</th>\n",
       "    </tr>\n",
       "  </thead>\n",
       "  <tbody>\n",
       "    <tr>\n",
       "      <th>0</th>\n",
       "      <td>Shah Rukh Khan</td>\n",
       "      <td>Pathan</td>\n",
       "      <td>2016</td>\n",
       "      <td>Action</td>\n",
       "      <td>1050</td>\n",
       "      <td>7.2</td>\n",
       "    </tr>\n",
       "    <tr>\n",
       "      <th>1</th>\n",
       "      <td>Salman Khan</td>\n",
       "      <td>Tiger Zinda Hai</td>\n",
       "      <td>2022</td>\n",
       "      <td>Action</td>\n",
       "      <td>565</td>\n",
       "      <td>6.0</td>\n",
       "    </tr>\n",
       "    <tr>\n",
       "      <th>2</th>\n",
       "      <td>Ranbir Kapoor</td>\n",
       "      <td>Dangal</td>\n",
       "      <td>2018</td>\n",
       "      <td>Biography</td>\n",
       "      <td>2024</td>\n",
       "      <td>8.4</td>\n",
       "    </tr>\n",
       "    <tr>\n",
       "      <th>3</th>\n",
       "      <td>Ranveer Singh</td>\n",
       "      <td>Brahmastra</td>\n",
       "      <td>2018</td>\n",
       "      <td>Fantasy</td>\n",
       "      <td>431</td>\n",
       "      <td>5.6</td>\n",
       "    </tr>\n",
       "    <tr>\n",
       "      <th>4</th>\n",
       "      <td>Ayushman Khurrana</td>\n",
       "      <td>Padmaavat</td>\n",
       "      <td>2018</td>\n",
       "      <td>Historical</td>\n",
       "      <td>585</td>\n",
       "      <td>7.0</td>\n",
       "    </tr>\n",
       "    <tr>\n",
       "      <th>5</th>\n",
       "      <td>Ranjkuman Rao</td>\n",
       "      <td>Andhadhun</td>\n",
       "      <td>2019</td>\n",
       "      <td>Thriller</td>\n",
       "      <td>111</td>\n",
       "      <td>8.3</td>\n",
       "    </tr>\n",
       "    <tr>\n",
       "      <th>6</th>\n",
       "      <td>Hrithik Roshan</td>\n",
       "      <td>Stree</td>\n",
       "      <td>2019</td>\n",
       "      <td>Horror Comedy</td>\n",
       "      <td>475</td>\n",
       "      <td>7.5</td>\n",
       "    </tr>\n",
       "    <tr>\n",
       "      <th>7</th>\n",
       "      <td>Akshay Kumar</td>\n",
       "      <td>War</td>\n",
       "      <td>2022</td>\n",
       "      <td>Action</td>\n",
       "      <td>318</td>\n",
       "      <td>6.5</td>\n",
       "    </tr>\n",
       "    <tr>\n",
       "      <th>8</th>\n",
       "      <td>Kartik Aaryan</td>\n",
       "      <td>Good Newwz</td>\n",
       "      <td>2017</td>\n",
       "      <td>Comedy</td>\n",
       "      <td>266</td>\n",
       "      <td>7.0</td>\n",
       "    </tr>\n",
       "    <tr>\n",
       "      <th>9</th>\n",
       "      <td>Varun Dhawan</td>\n",
       "      <td>Bhool Bhulaiyaa</td>\n",
       "      <td>2018</td>\n",
       "      <td>Horror Comedy</td>\n",
       "      <td>201</td>\n",
       "      <td>5.9</td>\n",
       "    </tr>\n",
       "    <tr>\n",
       "      <th>10</th>\n",
       "      <td>Vicky Kaushal</td>\n",
       "      <td>URI</td>\n",
       "      <td>2019</td>\n",
       "      <td>Action</td>\n",
       "      <td>342</td>\n",
       "      <td>8.2</td>\n",
       "    </tr>\n",
       "  </tbody>\n",
       "</table>\n",
       "</div>"
      ],
      "text/plain": [
       "                Actor             film  year          Genre  \\\n",
       "0      Shah Rukh Khan           Pathan  2016         Action   \n",
       "1         Salman Khan  Tiger Zinda Hai  2022         Action   \n",
       "2       Ranbir Kapoor           Dangal  2018      Biography   \n",
       "3       Ranveer Singh       Brahmastra  2018        Fantasy   \n",
       "4   Ayushman Khurrana        Padmaavat  2018     Historical   \n",
       "5       Ranjkuman Rao        Andhadhun  2019       Thriller   \n",
       "6      Hrithik Roshan           Stree   2019  Horror Comedy   \n",
       "7        Akshay Kumar             War   2022         Action   \n",
       "8       Kartik Aaryan       Good Newwz  2017         Comedy   \n",
       "9        Varun Dhawan  Bhool Bhulaiyaa  2018  Horror Comedy   \n",
       "10      Vicky Kaushal              URI  2019         Action   \n",
       "\n",
       "    BoxOffice(INR Cror  IMD  \n",
       "0                 1050  7.2  \n",
       "1                  565  6.0  \n",
       "2                 2024  8.4  \n",
       "3                  431  5.6  \n",
       "4                  585  7.0  \n",
       "5                  111  8.3  \n",
       "6                  475  7.5  \n",
       "7                  318  6.5  \n",
       "8                  266  7.0  \n",
       "9                  201  5.9  \n",
       "10                 342  8.2  "
      ]
     },
     "execution_count": 70,
     "metadata": {},
     "output_type": "execute_result"
    }
   ],
   "source": [
    "df"
   ]
  },
  {
   "cell_type": "code",
   "execution_count": 72,
   "id": "429e7935-0462-4765-99d2-58a6dde9d27b",
   "metadata": {},
   "outputs": [
    {
     "data": {
      "text/plain": [
       "Actor                     Salman Khan\n",
       "film                  Tiger Zinda Hai\n",
       "year                             2022\n",
       "Genre                          Action\n",
       "BoxOffice(INR Cror                565\n",
       "IMD                               6.0\n",
       "Name: 1, dtype: object"
      ]
     },
     "execution_count": 72,
     "metadata": {},
     "output_type": "execute_result"
    }
   ],
   "source": [
    "df.loc[1] "
   ]
  },
  {
   "cell_type": "code",
   "execution_count": 74,
   "id": "6f13e19e-b448-4c26-8283-4741defd0e30",
   "metadata": {},
   "outputs": [
    {
     "data": {
      "text/plain": [
       "Actor                     Salman Khan\n",
       "film                  Tiger Zinda Hai\n",
       "year                             2022\n",
       "Genre                          Action\n",
       "BoxOffice(INR Cror                565\n",
       "IMD                               6.0\n",
       "Name: 1, dtype: object"
      ]
     },
     "execution_count": 74,
     "metadata": {},
     "output_type": "execute_result"
    }
   ],
   "source": [
    "df.iloc[1] "
   ]
  },
  {
   "cell_type": "code",
   "execution_count": 76,
   "id": "55ed572b-b8e7-4cdd-819c-38dc2e710aa8",
   "metadata": {},
   "outputs": [
    {
     "data": {
      "text/plain": [
       "'Good Newwz'"
      ]
     },
     "execution_count": 76,
     "metadata": {},
     "output_type": "execute_result"
    }
   ],
   "source": [
    "df.loc[8,'film']"
   ]
  },
  {
   "cell_type": "code",
   "execution_count": 78,
   "id": "62c604ee-0aa6-46f5-b2cf-c1c30197e508",
   "metadata": {},
   "outputs": [
    {
     "data": {
      "text/plain": [
       "'Stree '"
      ]
     },
     "execution_count": 78,
     "metadata": {},
     "output_type": "execute_result"
    }
   ],
   "source": [
    "df.loc[6,'film']"
   ]
  },
  {
   "cell_type": "code",
   "execution_count": 80,
   "id": "c051e5ff-2848-48eb-826c-668984ce305a",
   "metadata": {},
   "outputs": [
    {
     "data": {
      "text/plain": [
       "'Comedy'"
      ]
     },
     "execution_count": 80,
     "metadata": {},
     "output_type": "execute_result"
    }
   ],
   "source": [
    "df.iloc[8,3]"
   ]
  },
  {
   "cell_type": "code",
   "execution_count": 82,
   "id": "06b5d2d5-0e9f-4e6a-bb54-dad1d1a4fcee",
   "metadata": {},
   "outputs": [
    {
     "data": {
      "text/html": [
       "<div>\n",
       "<style scoped>\n",
       "    .dataframe tbody tr th:only-of-type {\n",
       "        vertical-align: middle;\n",
       "    }\n",
       "\n",
       "    .dataframe tbody tr th {\n",
       "        vertical-align: top;\n",
       "    }\n",
       "\n",
       "    .dataframe thead th {\n",
       "        text-align: right;\n",
       "    }\n",
       "</style>\n",
       "<table border=\"1\" class=\"dataframe\">\n",
       "  <thead>\n",
       "    <tr style=\"text-align: right;\">\n",
       "      <th></th>\n",
       "      <th>Actor</th>\n",
       "      <th>film</th>\n",
       "    </tr>\n",
       "  </thead>\n",
       "  <tbody>\n",
       "    <tr>\n",
       "      <th>0</th>\n",
       "      <td>Shah Rukh Khan</td>\n",
       "      <td>Pathan</td>\n",
       "    </tr>\n",
       "    <tr>\n",
       "      <th>1</th>\n",
       "      <td>Salman Khan</td>\n",
       "      <td>Tiger Zinda Hai</td>\n",
       "    </tr>\n",
       "    <tr>\n",
       "      <th>2</th>\n",
       "      <td>Ranbir Kapoor</td>\n",
       "      <td>Dangal</td>\n",
       "    </tr>\n",
       "  </tbody>\n",
       "</table>\n",
       "</div>"
      ],
      "text/plain": [
       "            Actor             film\n",
       "0  Shah Rukh Khan           Pathan\n",
       "1     Salman Khan  Tiger Zinda Hai\n",
       "2   Ranbir Kapoor           Dangal"
      ]
     },
     "execution_count": 82,
     "metadata": {},
     "output_type": "execute_result"
    }
   ],
   "source": [
    "df.loc[0:2,[\"Actor\",\"film\"]]"
   ]
  },
  {
   "cell_type": "code",
   "execution_count": 84,
   "id": "0d60be57-5578-4c10-9485-23b7e21557eb",
   "metadata": {},
   "outputs": [
    {
     "data": {
      "text/html": [
       "<div>\n",
       "<style scoped>\n",
       "    .dataframe tbody tr th:only-of-type {\n",
       "        vertical-align: middle;\n",
       "    }\n",
       "\n",
       "    .dataframe tbody tr th {\n",
       "        vertical-align: top;\n",
       "    }\n",
       "\n",
       "    .dataframe thead th {\n",
       "        text-align: right;\n",
       "    }\n",
       "</style>\n",
       "<table border=\"1\" class=\"dataframe\">\n",
       "  <thead>\n",
       "    <tr style=\"text-align: right;\">\n",
       "      <th></th>\n",
       "      <th>Actor</th>\n",
       "      <th>film</th>\n",
       "    </tr>\n",
       "  </thead>\n",
       "  <tbody>\n",
       "    <tr>\n",
       "      <th>0</th>\n",
       "      <td>Shah Rukh Khan</td>\n",
       "      <td>Pathan</td>\n",
       "    </tr>\n",
       "    <tr>\n",
       "      <th>1</th>\n",
       "      <td>Salman Khan</td>\n",
       "      <td>Tiger Zinda Hai</td>\n",
       "    </tr>\n",
       "  </tbody>\n",
       "</table>\n",
       "</div>"
      ],
      "text/plain": [
       "            Actor             film\n",
       "0  Shah Rukh Khan           Pathan\n",
       "1     Salman Khan  Tiger Zinda Hai"
      ]
     },
     "execution_count": 84,
     "metadata": {},
     "output_type": "execute_result"
    }
   ],
   "source": [
    "df.iloc[0:2,0:2]"
   ]
  },
  {
   "cell_type": "code",
   "execution_count": 86,
   "id": "7d6fd3fc-38b2-4c6d-86fc-2aece1f3fedc",
   "metadata": {},
   "outputs": [
    {
     "data": {
      "text/plain": [
       "'Salman Khan'"
      ]
     },
     "execution_count": 86,
     "metadata": {},
     "output_type": "execute_result"
    }
   ],
   "source": [
    "df.at[1,\"Actor\"]"
   ]
  },
  {
   "cell_type": "code",
   "execution_count": 88,
   "id": "ec18255a-8d6f-436b-9129-fc039bf0fa47",
   "metadata": {},
   "outputs": [
    {
     "data": {
      "text/plain": [
       "'Tiger Zinda Hai'"
      ]
     },
     "execution_count": 88,
     "metadata": {},
     "output_type": "execute_result"
    }
   ],
   "source": [
    "df.iat[1,1]"
   ]
  },
  {
   "cell_type": "code",
   "execution_count": 93,
   "id": "d068f4e3-c218-4231-8379-8de1e6722951",
   "metadata": {},
   "outputs": [
    {
     "data": {
      "text/plain": [
       "0        Shah Rukh Khan\n",
       "2         Ranbir Kapoor\n",
       "4     Ayushman Khurrana\n",
       "5         Ranjkuman Rao\n",
       "6        Hrithik Roshan\n",
       "7          Akshay Kumar\n",
       "8         Kartik Aaryan\n",
       "10        Vicky Kaushal\n",
       "Name: Actor, dtype: object"
      ]
     },
     "execution_count": 93,
     "metadata": {},
     "output_type": "execute_result"
    }
   ],
   "source": [
    "df[df[\"IMD\"]>6]['Actor']"
   ]
  },
  {
   "cell_type": "code",
   "execution_count": 95,
   "id": "001f821e-9e34-407b-ace9-d32b537a8dec",
   "metadata": {},
   "outputs": [
    {
     "data": {
      "text/html": [
       "<div>\n",
       "<style scoped>\n",
       "    .dataframe tbody tr th:only-of-type {\n",
       "        vertical-align: middle;\n",
       "    }\n",
       "\n",
       "    .dataframe tbody tr th {\n",
       "        vertical-align: top;\n",
       "    }\n",
       "\n",
       "    .dataframe thead th {\n",
       "        text-align: right;\n",
       "    }\n",
       "</style>\n",
       "<table border=\"1\" class=\"dataframe\">\n",
       "  <thead>\n",
       "    <tr style=\"text-align: right;\">\n",
       "      <th></th>\n",
       "      <th>Actor</th>\n",
       "      <th>film</th>\n",
       "      <th>year</th>\n",
       "      <th>Genre</th>\n",
       "      <th>BoxOffice(INR Cror</th>\n",
       "      <th>IMD</th>\n",
       "    </tr>\n",
       "  </thead>\n",
       "  <tbody>\n",
       "    <tr>\n",
       "      <th>0</th>\n",
       "      <td>Shah Rukh Khan</td>\n",
       "      <td>Pathan</td>\n",
       "      <td>2016</td>\n",
       "      <td>Action</td>\n",
       "      <td>1050</td>\n",
       "      <td>7.2</td>\n",
       "    </tr>\n",
       "    <tr>\n",
       "      <th>2</th>\n",
       "      <td>Ranbir Kapoor</td>\n",
       "      <td>Dangal</td>\n",
       "      <td>2018</td>\n",
       "      <td>Biography</td>\n",
       "      <td>2024</td>\n",
       "      <td>8.4</td>\n",
       "    </tr>\n",
       "    <tr>\n",
       "      <th>4</th>\n",
       "      <td>Ayushman Khurrana</td>\n",
       "      <td>Padmaavat</td>\n",
       "      <td>2018</td>\n",
       "      <td>Historical</td>\n",
       "      <td>585</td>\n",
       "      <td>7.0</td>\n",
       "    </tr>\n",
       "    <tr>\n",
       "      <th>5</th>\n",
       "      <td>Ranjkuman Rao</td>\n",
       "      <td>Andhadhun</td>\n",
       "      <td>2019</td>\n",
       "      <td>Thriller</td>\n",
       "      <td>111</td>\n",
       "      <td>8.3</td>\n",
       "    </tr>\n",
       "    <tr>\n",
       "      <th>6</th>\n",
       "      <td>Hrithik Roshan</td>\n",
       "      <td>Stree</td>\n",
       "      <td>2019</td>\n",
       "      <td>Horror Comedy</td>\n",
       "      <td>475</td>\n",
       "      <td>7.5</td>\n",
       "    </tr>\n",
       "    <tr>\n",
       "      <th>7</th>\n",
       "      <td>Akshay Kumar</td>\n",
       "      <td>War</td>\n",
       "      <td>2022</td>\n",
       "      <td>Action</td>\n",
       "      <td>318</td>\n",
       "      <td>6.5</td>\n",
       "    </tr>\n",
       "    <tr>\n",
       "      <th>8</th>\n",
       "      <td>Kartik Aaryan</td>\n",
       "      <td>Good Newwz</td>\n",
       "      <td>2017</td>\n",
       "      <td>Comedy</td>\n",
       "      <td>266</td>\n",
       "      <td>7.0</td>\n",
       "    </tr>\n",
       "    <tr>\n",
       "      <th>10</th>\n",
       "      <td>Vicky Kaushal</td>\n",
       "      <td>URI</td>\n",
       "      <td>2019</td>\n",
       "      <td>Action</td>\n",
       "      <td>342</td>\n",
       "      <td>8.2</td>\n",
       "    </tr>\n",
       "  </tbody>\n",
       "</table>\n",
       "</div>"
      ],
      "text/plain": [
       "                Actor        film  year          Genre  BoxOffice(INR Cror  \\\n",
       "0      Shah Rukh Khan      Pathan  2016         Action                1050   \n",
       "2       Ranbir Kapoor      Dangal  2018      Biography                2024   \n",
       "4   Ayushman Khurrana   Padmaavat  2018     Historical                 585   \n",
       "5       Ranjkuman Rao   Andhadhun  2019       Thriller                 111   \n",
       "6      Hrithik Roshan      Stree   2019  Horror Comedy                 475   \n",
       "7        Akshay Kumar        War   2022         Action                 318   \n",
       "8       Kartik Aaryan  Good Newwz  2017         Comedy                 266   \n",
       "10      Vicky Kaushal         URI  2019         Action                 342   \n",
       "\n",
       "    IMD  \n",
       "0   7.2  \n",
       "2   8.4  \n",
       "4   7.0  \n",
       "5   8.3  \n",
       "6   7.5  \n",
       "7   6.5  \n",
       "8   7.0  \n",
       "10  8.2  "
      ]
     },
     "execution_count": 95,
     "metadata": {},
     "output_type": "execute_result"
    }
   ],
   "source": [
    "df[df[\"IMD\"]>6]"
   ]
  },
  {
   "cell_type": "code",
   "execution_count": 97,
   "id": "42c42c28-80b0-4790-81f7-474a37f7c10b",
   "metadata": {},
   "outputs": [
    {
     "data": {
      "text/html": [
       "<div>\n",
       "<style scoped>\n",
       "    .dataframe tbody tr th:only-of-type {\n",
       "        vertical-align: middle;\n",
       "    }\n",
       "\n",
       "    .dataframe tbody tr th {\n",
       "        vertical-align: top;\n",
       "    }\n",
       "\n",
       "    .dataframe thead th {\n",
       "        text-align: right;\n",
       "    }\n",
       "</style>\n",
       "<table border=\"1\" class=\"dataframe\">\n",
       "  <thead>\n",
       "    <tr style=\"text-align: right;\">\n",
       "      <th></th>\n",
       "      <th>Actor</th>\n",
       "      <th>film</th>\n",
       "      <th>year</th>\n",
       "      <th>Genre</th>\n",
       "      <th>BoxOffice(INR Cror</th>\n",
       "      <th>IMD</th>\n",
       "    </tr>\n",
       "  </thead>\n",
       "  <tbody>\n",
       "    <tr>\n",
       "      <th>5</th>\n",
       "      <td>Ranjkuman Rao</td>\n",
       "      <td>Andhadhun</td>\n",
       "      <td>2019</td>\n",
       "      <td>Thriller</td>\n",
       "      <td>111</td>\n",
       "      <td>8.3</td>\n",
       "    </tr>\n",
       "    <tr>\n",
       "      <th>6</th>\n",
       "      <td>Hrithik Roshan</td>\n",
       "      <td>Stree</td>\n",
       "      <td>2019</td>\n",
       "      <td>Horror Comedy</td>\n",
       "      <td>475</td>\n",
       "      <td>7.5</td>\n",
       "    </tr>\n",
       "    <tr>\n",
       "      <th>7</th>\n",
       "      <td>Akshay Kumar</td>\n",
       "      <td>War</td>\n",
       "      <td>2022</td>\n",
       "      <td>Action</td>\n",
       "      <td>318</td>\n",
       "      <td>6.5</td>\n",
       "    </tr>\n",
       "    <tr>\n",
       "      <th>10</th>\n",
       "      <td>Vicky Kaushal</td>\n",
       "      <td>URI</td>\n",
       "      <td>2019</td>\n",
       "      <td>Action</td>\n",
       "      <td>342</td>\n",
       "      <td>8.2</td>\n",
       "    </tr>\n",
       "  </tbody>\n",
       "</table>\n",
       "</div>"
      ],
      "text/plain": [
       "             Actor       film  year          Genre  BoxOffice(INR Cror  IMD\n",
       "5    Ranjkuman Rao  Andhadhun  2019       Thriller                 111  8.3\n",
       "6   Hrithik Roshan     Stree   2019  Horror Comedy                 475  7.5\n",
       "7     Akshay Kumar       War   2022         Action                 318  6.5\n",
       "10   Vicky Kaushal        URI  2019         Action                 342  8.2"
      ]
     },
     "execution_count": 97,
     "metadata": {},
     "output_type": "execute_result"
    }
   ],
   "source": [
    "df[(df[\"IMD\"]>6) & (df[\"year\"]>2018)]"
   ]
  },
  {
   "cell_type": "code",
   "execution_count": 99,
   "id": "91e1805b-6010-4c18-a690-868ed6126a17",
   "metadata": {},
   "outputs": [
    {
     "data": {
      "text/html": [
       "<div>\n",
       "<style scoped>\n",
       "    .dataframe tbody tr th:only-of-type {\n",
       "        vertical-align: middle;\n",
       "    }\n",
       "\n",
       "    .dataframe tbody tr th {\n",
       "        vertical-align: top;\n",
       "    }\n",
       "\n",
       "    .dataframe thead th {\n",
       "        text-align: right;\n",
       "    }\n",
       "</style>\n",
       "<table border=\"1\" class=\"dataframe\">\n",
       "  <thead>\n",
       "    <tr style=\"text-align: right;\">\n",
       "      <th></th>\n",
       "      <th>Actor</th>\n",
       "      <th>film</th>\n",
       "      <th>year</th>\n",
       "      <th>Genre</th>\n",
       "      <th>BoxOffice(INR Cror</th>\n",
       "      <th>IMD</th>\n",
       "    </tr>\n",
       "  </thead>\n",
       "  <tbody>\n",
       "    <tr>\n",
       "      <th>5</th>\n",
       "      <td>Ranjkuman Rao</td>\n",
       "      <td>Andhadhun</td>\n",
       "      <td>2019</td>\n",
       "      <td>Thriller</td>\n",
       "      <td>111</td>\n",
       "      <td>8.3</td>\n",
       "    </tr>\n",
       "    <tr>\n",
       "      <th>6</th>\n",
       "      <td>Hrithik Roshan</td>\n",
       "      <td>Stree</td>\n",
       "      <td>2019</td>\n",
       "      <td>Horror Comedy</td>\n",
       "      <td>475</td>\n",
       "      <td>7.5</td>\n",
       "    </tr>\n",
       "    <tr>\n",
       "      <th>7</th>\n",
       "      <td>Akshay Kumar</td>\n",
       "      <td>War</td>\n",
       "      <td>2022</td>\n",
       "      <td>Action</td>\n",
       "      <td>318</td>\n",
       "      <td>6.5</td>\n",
       "    </tr>\n",
       "    <tr>\n",
       "      <th>10</th>\n",
       "      <td>Vicky Kaushal</td>\n",
       "      <td>URI</td>\n",
       "      <td>2019</td>\n",
       "      <td>Action</td>\n",
       "      <td>342</td>\n",
       "      <td>8.2</td>\n",
       "    </tr>\n",
       "  </tbody>\n",
       "</table>\n",
       "</div>"
      ],
      "text/plain": [
       "             Actor       film  year          Genre  BoxOffice(INR Cror  IMD\n",
       "5    Ranjkuman Rao  Andhadhun  2019       Thriller                 111  8.3\n",
       "6   Hrithik Roshan     Stree   2019  Horror Comedy                 475  7.5\n",
       "7     Akshay Kumar       War   2022         Action                 318  6.5\n",
       "10   Vicky Kaushal        URI  2019         Action                 342  8.2"
      ]
     },
     "execution_count": 99,
     "metadata": {},
     "output_type": "execute_result"
    }
   ],
   "source": [
    "df.query(\"year>2018 and IMD >6\")"
   ]
  },
  {
   "cell_type": "code",
   "execution_count": null,
   "id": "4456406a-c9c8-4d50-b03d-27a03066839f",
   "metadata": {},
   "outputs": [],
   "source": []
  }
 ],
 "metadata": {
  "kernelspec": {
   "display_name": "Python [conda env:base] *",
   "language": "python",
   "name": "conda-base-py"
  },
  "language_info": {
   "codemirror_mode": {
    "name": "ipython",
    "version": 3
   },
   "file_extension": ".py",
   "mimetype": "text/x-python",
   "name": "python",
   "nbconvert_exporter": "python",
   "pygments_lexer": "ipython3",
   "version": "3.12.7"
  }
 },
 "nbformat": 4,
 "nbformat_minor": 5
}
