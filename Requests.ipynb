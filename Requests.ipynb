{
 "cells": [
  {
   "cell_type": "code",
   "execution_count": 10,
   "id": "4344c5ba-ea7e-4338-9287-2f329b81ddaf",
   "metadata": {},
   "outputs": [],
   "source": [
    "import requests\n"
   ]
  },
  {
   "cell_type": "code",
   "execution_count": 12,
   "id": "f84eeedc-e189-4506-b661-419959f6aa1e",
   "metadata": {},
   "outputs": [],
   "source": [
    "a = requests.get(\"https://books.toscrape.com/\")"
   ]
  },
  {
   "cell_type": "code",
   "execution_count": 13,
   "id": "6551afa7-3059-4620-b5a1-260692c06fca",
   "metadata": {},
   "outputs": [],
   "source": [
    "with open(f\"htmls/page1.html\",\"w\") as f:\n",
    "    f.write(a.text)"
   ]
  },
  {
   "cell_type": "code",
   "execution_count": 20,
   "id": "8b013230-01ba-4802-a285-6a83790172e3",
   "metadata": {},
   "outputs": [
    {
     "name": "stdout",
     "output_type": "stream",
     "text": [
      "Downloaded page 1 successfully\n",
      "Downloaded page 2 successfully\n",
      "Downloaded page 3 successfully\n",
      "Downloaded page 4 successfully\n",
      "Downloaded page 5 successfully\n",
      "Downloaded page 6 successfully\n",
      "Downloaded page 7 successfully\n",
      "Downloaded page 8 successfully\n",
      "Downloaded page 9 successfully\n",
      "Downloaded page 10 successfully\n",
      "Downloaded page 11 successfully\n",
      "Downloaded page 12 successfully\n",
      "Downloaded page 13 successfully\n",
      "Downloaded page 14 successfully\n",
      "Downloaded page 15 successfully\n",
      "Downloaded page 16 successfully\n",
      "Downloaded page 17 successfully\n",
      "Downloaded page 18 successfully\n",
      "Downloaded page 19 successfully\n",
      "Downloaded page 20 successfully\n",
      "Downloaded page 21 successfully\n",
      "Downloaded page 22 successfully\n",
      "Downloaded page 23 successfully\n",
      "Downloaded page 24 successfully\n",
      "Downloaded page 25 successfully\n",
      "Downloaded page 26 successfully\n",
      "Downloaded page 27 successfully\n",
      "Downloaded page 28 successfully\n",
      "Downloaded page 29 successfully\n",
      "Downloaded page 30 successfully\n",
      "Downloaded page 31 successfully\n",
      "Downloaded page 32 successfully\n",
      "Downloaded page 33 successfully\n",
      "Downloaded page 34 successfully\n",
      "Downloaded page 35 successfully\n",
      "Downloaded page 36 successfully\n",
      "Downloaded page 37 successfully\n",
      "Downloaded page 38 successfully\n",
      "Downloaded page 39 successfully\n",
      "Downloaded page 40 successfully\n",
      "Downloaded page 41 successfully\n",
      "Downloaded page 42 successfully\n",
      "Downloaded page 43 successfully\n",
      "Downloaded page 44 successfully\n",
      "Downloaded page 45 successfully\n",
      "Downloaded page 46 successfully\n",
      "Downloaded page 47 successfully\n",
      "Downloaded page 48 successfully\n",
      "Downloaded page 49 successfully\n",
      "Downloaded page 50 successfully\n"
     ]
    }
   ],
   "source": [
    "for i in range(1,51):\n",
    "    a = requests.get(f\"https://books.toscrape.com/catalogue/page-{i}.html\")\n",
    "    with open(f\"htmls/page{i}.html\",\"w\",encoding = \"utf-8\") as f:\n",
    "        f.write(a.text)\n",
    "        print(f\"Downloaded page {i} successfully\")"
   ]
  },
  {
   "cell_type": "code",
   "execution_count": null,
   "id": "574b8a97-4628-4a77-a0d2-ddc812bd4ad4",
   "metadata": {},
   "outputs": [],
   "source": []
  }
 ],
 "metadata": {
  "kernelspec": {
   "display_name": "Python [conda env:base] *",
   "language": "python",
   "name": "conda-base-py"
  },
  "language_info": {
   "codemirror_mode": {
    "name": "ipython",
    "version": 3
   },
   "file_extension": ".py",
   "mimetype": "text/x-python",
   "name": "python",
   "nbconvert_exporter": "python",
   "pygments_lexer": "ipython3",
   "version": "3.12.7"
  }
 },
 "nbformat": 4,
 "nbformat_minor": 5
}
