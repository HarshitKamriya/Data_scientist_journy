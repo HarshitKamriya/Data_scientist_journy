{
 "cells": [
  {
   "cell_type": "code",
   "execution_count": 1,
   "id": "518f61bb-a875-44c8-b4e2-b4962164770b",
   "metadata": {},
   "outputs": [
    {
     "data": {
      "text/plain": [
       "dtype('int32')"
      ]
     },
     "execution_count": 1,
     "metadata": {},
     "output_type": "execute_result"
    }
   ],
   "source": [
    "import numpy as np\n",
    "arr = np.array([1,2,3,4,5,6])\n",
    "arr.dtype"
   ]
  },
  {
   "cell_type": "code",
   "execution_count": 3,
   "id": "c24a49e0-3d1b-4fbc-9816-6f974eba49da",
   "metadata": {},
   "outputs": [
    {
     "data": {
      "text/plain": [
       "dtype('float64')"
      ]
     },
     "execution_count": 3,
     "metadata": {},
     "output_type": "execute_result"
    }
   ],
   "source": [
    "arr = np.array([1.2,3.4,5.6])\n",
    "arr.dtype\n"
   ]
  },
  {
   "cell_type": "code",
   "execution_count": 7,
   "id": "b2dbbdbf-9809-465c-9c6e-8af6938aee88",
   "metadata": {},
   "outputs": [],
   "source": [
    "arr1 = arr.astype(np.int32)"
   ]
  },
  {
   "cell_type": "code",
   "execution_count": 9,
   "id": "a345c7f3-7f40-4b39-96c0-6ffe73775e6e",
   "metadata": {},
   "outputs": [
    {
     "data": {
      "text/plain": [
       "array([1, 3, 5])"
      ]
     },
     "execution_count": 9,
     "metadata": {},
     "output_type": "execute_result"
    }
   ],
   "source": [
    "arr1"
   ]
  },
  {
   "cell_type": "code",
   "execution_count": 11,
   "id": "da115561-2258-4843-877d-97322ae554c3",
   "metadata": {},
   "outputs": [
    {
     "data": {
      "text/plain": [
       "dtype('int32')"
      ]
     },
     "execution_count": 11,
     "metadata": {},
     "output_type": "execute_result"
    }
   ],
   "source": [
    "arr1.dtype"
   ]
  },
  {
   "cell_type": "code",
   "execution_count": 13,
   "id": "d0dad70c-1cbf-4869-a910-c92160983f19",
   "metadata": {},
   "outputs": [],
   "source": [
    "arr_large = np.array([1000000, 2000000, 3000000], dtype=np.int64)"
   ]
  },
  {
   "cell_type": "code",
   "execution_count": 15,
   "id": "7964c49e-07fd-4382-bc11-32e466d1f0a0",
   "metadata": {},
   "outputs": [
    {
     "data": {
      "text/plain": [
       "dtype('int64')"
      ]
     },
     "execution_count": 15,
     "metadata": {},
     "output_type": "execute_result"
    }
   ],
   "source": [
    "arr_large.dtype"
   ]
  },
  {
   "cell_type": "code",
   "execution_count": 17,
   "id": "4cc1eb2d-77d3-461a-9ac3-b0f3b2f032c8",
   "metadata": {},
   "outputs": [
    {
     "name": "stdout",
     "output_type": "stream",
     "text": [
      "24\n",
      "12\n"
     ]
    }
   ],
   "source": [
    "arr_int64 = np.array([1, 2, 3], dtype=np.int64)\n",
    "arr_int32 = np.array([1, 2, 3], dtype=np.int32)\n",
    "\n",
    "print(arr_int64.nbytes)  # Output: 24 bytes (3 elements * 8 bytes each)\n",
    "print(arr_int32.nbytes)  # Output: 12 bytes (3 elements * 4 bytes each)"
   ]
  },
  {
   "cell_type": "code",
   "execution_count": 19,
   "id": "bf3fef64-ec75-4c34-84f7-72aadcb2690c",
   "metadata": {},
   "outputs": [
    {
     "data": {
      "text/plain": [
       "array(['apple', 'banana', 'cherry'], dtype='<U10')"
      ]
     },
     "execution_count": 19,
     "metadata": {},
     "output_type": "execute_result"
    }
   ],
   "source": [
    "arr = np.array(['apple','banana','cherry'],dtype = 'U10')\n",
    "arr"
   ]
  },
  {
   "cell_type": "code",
   "execution_count": 21,
   "id": "7ede9bb4-0ca9-460f-b3d8-e78df8863097",
   "metadata": {},
   "outputs": [
    {
     "data": {
      "text/plain": [
       "array([1.+2.j, 3.+4.j, 5.+6.j])"
      ]
     },
     "execution_count": 21,
     "metadata": {},
     "output_type": "execute_result"
    }
   ],
   "source": [
    "arr = np.array([1+2j,3+4j,5+6j],dtype = 'complex128')\n",
    "arr"
   ]
  },
  {
   "cell_type": "code",
   "execution_count": 23,
   "id": "af1be8a8-3797-45fc-813e-5e793e064ef0",
   "metadata": {},
   "outputs": [
    {
     "name": "stdout",
     "output_type": "stream",
     "text": [
      "[1, 4, 9, 16, 25]\n"
     ]
    }
   ],
   "source": [
    "import numpy as np\n",
    "\n",
    "arr = np.array([1, 2, 3, 4, 5])\n",
    "result = []\n",
    "\n",
    "# Using a loop to square each element (slow)\n",
    "for num in arr:\n",
    "    result.append(num ** 2)\n",
    "\n",
    "print(result)  # Output: [1, 4, 9, 16, 25]"
   ]
  },
  {
   "cell_type": "code",
   "execution_count": 25,
   "id": "91730bae-04e3-40b4-9f51-bd2d4b2e7848",
   "metadata": {},
   "outputs": [
    {
     "data": {
      "text/plain": [
       "array([22, 33, 44, 55, 75])"
      ]
     },
     "execution_count": 25,
     "metadata": {},
     "output_type": "execute_result"
    }
   ],
   "source": [
    "arr = np.array([12,23,34,45,65])\n",
    "arr = arr+10\n",
    "arr"
   ]
  },
  {
   "cell_type": "code",
   "execution_count": 27,
   "id": "0c611462-dbdf-4233-a6c3-17b4fff23b4f",
   "metadata": {},
   "outputs": [
    {
     "name": "stdout",
     "output_type": "stream",
     "text": [
      "[[2 4 6]\n",
      " [5 7 9]]\n"
     ]
    }
   ],
   "source": [
    "arr1 = np.array([[1, 2, 3], [4, 5, 6]])\n",
    "arr2 = np.array([1, 2, 3])\n",
    "\n",
    "result = arr1 + arr2  # Broadcasting arr2 across arr1\n",
    "print(result)\n",
    "# Output:\n",
    "# [[2 4 6]\n",
    "#  [5 7 9]]"
   ]
  },
  {
   "cell_type": "code",
   "execution_count": 31,
   "id": "47b8f851-5a1b-46b7-9024-70c870c0d8fb",
   "metadata": {},
   "outputs": [
    {
     "name": "stdout",
     "output_type": "stream",
     "text": [
      "[[-1.41421356 -1.41421356 -1.41421356]\n",
      " [-0.70710678 -0.70710678 -0.70710678]\n",
      " [ 0.          0.          0.        ]\n",
      " [ 0.70710678  0.70710678  0.70710678]\n",
      " [ 1.41421356  1.41421356  1.41421356]]\n"
     ]
    }
   ],
   "source": [
    "# Simulating a dataset (5 samples, 3 features)\n",
    "data = np.array([[10, 20, 30],\n",
    "                 [15, 25, 35],\n",
    "                 [20, 30, 40],\n",
    "                 [25, 35, 45],\n",
    "                 [30, 40, 50]])\n",
    "\n",
    "# Calculating mean and standard deviation for each feature (column)\n",
    "mean = data.mean(axis=0)\n",
    "std = data.std(axis=0)\n",
    "\n",
    "# Normalizing the data using broadcasting\n",
    "normalized_data = (data - mean) / std\n",
    "\n",
    "print(normalized_data)"
   ]
  },
  {
   "cell_type": "code",
   "execution_count": null,
   "id": "230c840b-ca9a-4d16-a0ae-2a0402e987ee",
   "metadata": {},
   "outputs": [],
   "source": []
  }
 ],
 "metadata": {
  "kernelspec": {
   "display_name": "Python [conda env:base] *",
   "language": "python",
   "name": "conda-base-py"
  },
  "language_info": {
   "codemirror_mode": {
    "name": "ipython",
    "version": 3
   },
   "file_extension": ".py",
   "mimetype": "text/x-python",
   "name": "python",
   "nbconvert_exporter": "python",
   "pygments_lexer": "ipython3",
   "version": "3.12.7"
  }
 },
 "nbformat": 4,
 "nbformat_minor": 5
}
